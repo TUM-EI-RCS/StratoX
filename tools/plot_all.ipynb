{
 "cells": [
  {
   "cell_type": "markdown",
   "metadata": {},
   "source": [
    "# Verification History"
   ]
  },
  {
   "cell_type": "code",
   "execution_count": 1,
   "metadata": {
    "collapsed": false
   },
   "outputs": [],
   "source": [
    "import json, re, pprint, os\n",
    "import pandas as pd\n",
    "import numpy as np\n",
    "import matplotlib\n",
    "#matplotlib.use('pgf') # this makes exports more beautiful, but disables plots in this notebook\n",
    "\n",
    "DIRECTORY = \".\"\n",
    "\n",
    "pltsettings = {\n",
    "    \"figure.figsize\" : (5.0, 4.0),\n",
    "    \"pgf.texsystem\" : \"pdflatex\",\n",
    "    \"font.family\": \"serif\",\n",
    "    \"font.serif\": [],                   # use latex default serif font\n",
    "    #\"font.sans-serif\": [\"DejaVu Sans\"], # use a specific sans-serif font\n",
    "}\n",
    "matplotlib.rcParams.update(pltsettings)\n",
    "\n",
    "import matplotlib.pyplot as plt\n",
    "#import seaborn as sns # makes exports ugly"
   ]
  },
  {
   "cell_type": "code",
   "execution_count": 46,
   "metadata": {
    "collapsed": false
   },
   "outputs": [
    {
     "name": "stdout",
     "output_type": "stream",
     "text": [
      "file=./master-spark18pro/unitstats-json-detail.log, date=.\n",
      "continue\n",
      "file=./2016-10-12_14:57:31_+0200/gnatprove_1/unitstats.log, date=2016-10-12 14:57:31\n",
      "continue\n",
      "file=./stable-spark18pro-latest/unitstats-json-detail.log, date=.\n",
      "continue\n",
      "file=./stable-spark18pro-latest/gnatprove_1/unitstats.log, date=.\n",
      "continue\n",
      "FIRST: \n",
      "2016-10-12 14:57:31: None\n"
     ]
    }
   ],
   "source": [
    "def read_json(fname):\n",
    "    \"\"\"\n",
    "    reads JSOn and returns (totals, units), tuple of dicts\n",
    "    \"\"\"\n",
    "    units=None\n",
    "    totals=None\n",
    "    with open(fname,'r') as f:\n",
    "        endofunits = False\n",
    "        for line in f:\n",
    "            match = re.search(r'^TOTALS', line)        \n",
    "            if match:                \n",
    "                endofunits = True\n",
    "            if not endofunits:\n",
    "                try:\n",
    "                    if not units:\n",
    "                        units = json.loads(line)\n",
    "                    else:\n",
    "                        print \"error: units appearing multiple times\"\n",
    "                except:\n",
    "                    pass\n",
    "            else:\n",
    "                try:\n",
    "                    if not totals:\n",
    "                        totals = json.loads(line)\n",
    "                    else:\n",
    "                        print \"error: totals appearing multiple times\"\n",
    "                except:\n",
    "                    pass\n",
    "    # unpack units (list of dicts) => dict\n",
    "    if units:\n",
    "        tmp=units\n",
    "        units={}\n",
    "        for u in tmp:\n",
    "            name=u.keys()[0]\n",
    "            stats=u[name]\n",
    "            #print \"unit=\"+name +\", stats=\" + str(stats)\n",
    "            units[name]=stats       \n",
    "    return (totals, units)\n",
    "              \n",
    "#######\n",
    "from datetime import datetime\n",
    "def date_from_path(f):\n",
    "    \"\"\"\n",
    "    Extract calendar date from file path. If fails, take \n",
    "    folder name\n",
    "    \"\"\"\n",
    "    parts = f.split(os.sep)\n",
    "    for p in parts:\n",
    "        match = re.search(r\"(\\d+-\\d+-\\d+_\\d+:\\d+:\\d+)\", p)\n",
    "        if match:            \n",
    "            try:            \n",
    "                dobj = datetime.strptime(match.group(1), \"%Y-%m-%d_%H:%M:%S\")\n",
    "                return dobj\n",
    "            except:                \n",
    "                pass            \n",
    "    return parts[0]\n",
    "#######\n",
    "import fnmatch\n",
    "\n",
    "# find all log files in the subfolders\n",
    "logfiles=[]\n",
    "for root, dirnames, filenames in os.walk(DIRECTORY):\n",
    "    for f in fnmatch.filter(filenames, 'unitstats*.log'):\n",
    "        logfiles.append(os.path.join(root, f))                    \n",
    "                \n",
    "# load each of them into dict calendar date -> data\n",
    "logfiles=list(set(logfiles))\n",
    "\n",
    "alldata = {}\n",
    "for f in logfiles:\n",
    "    if True: #try:\n",
    "        caldate = date_from_path (f)\n",
    "        (totals, units) = read_json(f)\n",
    "        print \"file=\" + f + \", date=\" + str(caldate)\n",
    "        if not caldate in alldata:\n",
    "            alldata[caldate] = {}\n",
    "        alldata[caldate][\"totals\"] = totals\n",
    "        #alldata[caldate][\"units\"] = units\n",
    "        print \"continue\"\n",
    "    else: #except:\n",
    "        pass    \n",
    "    \n",
    "print \"FIRST: \"\n",
    "t = alldata.keys()[0]\n",
    "print str(t) + \": \"+ str(alldata[t][\"totals\"])\n"
   ]
  },
  {
   "cell_type": "markdown",
   "metadata": {},
   "source": [
    "## Now make graph over totals"
   ]
  },
  {
   "cell_type": "code",
   "execution_count": 85,
   "metadata": {
    "collapsed": false
   },
   "outputs": [
    {
     "name": "stdout",
     "output_type": "stream",
     "text": [
      "                     props  proven\n",
      "2016-10-12 14:57:31     10       9\n",
      "2016-10-13 14:57:31     11       9\n",
      "2016-10-14 14:57:31     11      10\n",
      "2016-10-15 14:57:31     10      10\n"
     ]
    },
    {
     "data": {
      "image/png": "[encoded data removed]",
      "text/plain": [
       "<matplotlib.figure.Figure at 0x7fb5454af150>"
      ]
     },
     "metadata": {},
     "output_type": "display_data"
    }
   ],
   "source": [
    "import matplotlib.dates as dates\n",
    "totals = {k : v['totals'] for k,v in alldata.iteritems()}\n",
    "\n",
    "# test data:\n",
    "totals={datetime(2016, 10, 12, 14, 57, 31): {'props' : 10, 'proven': 9},datetime(2016, 10, 13, 14, 57, 31): {'props' : 11, 'proven': 9},datetime(2016, 10, 14, 14, 57, 31): {'props' : 11, 'proven': 10},datetime(2016, 10, 15, 14, 57, 31): {'props' : 10, 'proven': 10}}\n",
    "df = pd.DataFrame(totals).T;\n",
    "print df.head()\n",
    "\n",
    "ax=df.plot(marker='x');\n",
    "#ax.xaxis.set_minor_locator(dates.WeekdayLocator(byweekday=(1), interval=1))\n",
    "#ax.xaxis.set_minor_formatter(dates.DateFormatter('%d\\n%a'))\n",
    "#ax.xaxis.set_major_locator(dates.MonthLocator())\n",
    "#ax.xaxis.set_major_formatter(dates.DateFormatter('\\n\\n\\n%b\\n%Y'))\n",
    "ax.xaxis.set_major_formatter(matplotlib.dates.DateFormatter('%b\\n%d'))\n",
    "ax.xaxis.grid(True, which=\"major\")\n",
    "ax.xaxis.grid(False, which=\"minor\")\n",
    "ax.set_ylabel('properties')\n",
    "ax.yaxis.grid()\n",
    "plt.savefig(DIRECTORY + os.sep + 'history.pdf', bbox_inches='tight')\n",
    "plt.show()"
   ]
  },
  {
   "cell_type": "code",
   "execution_count": null,
   "metadata": {
    "collapsed": true
   },
   "outputs": [],
   "source": []
  }
 ],
 "metadata": {
  "anaconda-cloud": {},
  "kernelspec": {
   "display_name": "Python [default]",
   "language": "python",
   "name": "python2"
  },
  "language_info": {
   "codemirror_mode": {
    "name": "ipython",
    "version": 2
   },
   "file_extension": ".py",
   "mimetype": "text/x-python",
   "name": "python",
   "nbconvert_exporter": "python",
   "pygments_lexer": "ipython2",
   "version": "2.7.12"
  }
 },
 "nbformat": 4,
 "nbformat_minor": 1
}
